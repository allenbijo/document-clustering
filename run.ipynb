{
 "cells": [
  {
   "cell_type": "code",
   "execution_count": 25,
   "metadata": {},
   "outputs": [],
   "source": [
    "from sentence_transformers import SentenceTransformer\n",
    "import faiss\n",
    "import pandas as pd\n",
    "import numpy as np"
   ]
  },
  {
   "cell_type": "code",
   "execution_count": 2,
   "metadata": {},
   "outputs": [],
   "source": [
    "file_path = \"./1787_2_2025_1.xlsx\"\n",
    "df = pd.read_excel(file_path)  # Reads the Excel file\n",
    "\n",
    "emails = df.iloc[:, 0].dropna().tolist()  # Remove NaN values and convert to list"
   ]
  },
  {
   "cell_type": "code",
   "execution_count": 3,
   "metadata": {},
   "outputs": [],
   "source": [
    "model = SentenceTransformer('all-MiniLM-L6-v2')\n",
    "\n",
    "email_embeddings = model.encode(emails, normalize_embeddings=True)\n",
    "d = email_embeddings.shape[1]  # Dimension of embeddings"
   ]
  },
  {
   "cell_type": "code",
   "execution_count": 72,
   "metadata": {},
   "outputs": [],
   "source": [
    "num_clusters = 4  # Adjust as needed\n",
    "kmeans = faiss.Kmeans(d, num_clusters, niter=100, verbose=True)\n",
    "kmeans.train(email_embeddings)\n",
    "\n",
    "_, labels = kmeans.index.search(email_embeddings, 1)  # Get closest cluster for each email\n",
    "labels = labels.flatten()"
   ]
  },
  {
   "cell_type": "code",
   "execution_count": 73,
   "metadata": {},
   "outputs": [],
   "source": [
    "df['Cluster'] = labels  # Add cluster labels to DataFrame\n",
    "output_file = \"clustered_emails.xlsx\"\n",
    "df.to_excel(output_file, index=False)"
   ]
  },
  {
   "cell_type": "code",
   "execution_count": 74,
   "metadata": {},
   "outputs": [
    {
     "name": "stdout",
     "output_type": "stream",
     "text": [
      "Cluster 1 (Length: 43):\n",
      "\n",
      "Cluster 2 (Length: 7):\n",
      "\n",
      "Cluster 3 (Length: 9):\n",
      "\n",
      "Cluster 0 (Length: 5):\n",
      "\n"
     ]
    }
   ],
   "source": [
    "clusters = {}\n",
    "for email, label in zip(emails, labels):\n",
    "    if label not in clusters:\n",
    "        clusters[label] = []\n",
    "    clusters[label].append(email)\n",
    "\n",
    "for cluster, grouped_emails in clusters.items():\n",
    "    print(f\"Cluster {cluster} (Length: {len(grouped_emails)}):\")\n",
    "    for email in grouped_emails:\n",
    "        continue\n",
    "        # print(f\"  - {email}\")\n",
    "    print()"
   ]
  },
  {
   "cell_type": "code",
   "execution_count": 75,
   "metadata": {},
   "outputs": [],
   "source": [
    "p = model.encode([\"parking\", \"sports\", \"housing\"], normalize_embeddings=True)"
   ]
  },
  {
   "cell_type": "code",
   "execution_count": 76,
   "metadata": {},
   "outputs": [],
   "source": [
    "_, labels = kmeans.index.search(p, 1)  # Get closest cluster for each topic\n",
    "labels = labels.flatten()"
   ]
  },
  {
   "cell_type": "code",
   "execution_count": 77,
   "metadata": {},
   "outputs": [
    {
     "data": {
      "text/plain": [
       "array([1, 2, 3])"
      ]
     },
     "execution_count": 77,
     "metadata": {},
     "output_type": "execute_result"
    }
   ],
   "source": [
    "labels"
   ]
  },
  {
   "cell_type": "code",
   "execution_count": 78,
   "metadata": {},
   "outputs": [],
   "source": [
    "index = faiss.IndexFlatL2(d)\n",
    "index.add(email_embeddings)\n",
    "D, I = index.search(kmeans.centroids, 1)"
   ]
  },
  {
   "cell_type": "code",
   "execution_count": 79,
   "metadata": {},
   "outputs": [
    {
     "name": "stdout",
     "output_type": "stream",
     "text": [
      "\n",
      "\n",
      "Council,  I reviewed staff report for this item,  and notice Habit for Humanity is showing a proposal to grant them a $3.6 MILLION  Menlo Park taxpayer owned BMR taxpayer grant for the acquisition and \"soft costs\".\n",
      "\n",
      "\n",
      "\n",
      "This amount is based on a purchase price of $2.8mm and soft costs of $600,000.\n",
      "\n",
      "\n",
      "\n",
      "The building is a boarded up old 4 plex on a 4800 sf lot across from 101,  with neighboring Affordable Low Income rental units in nearly identical buildings.\n",
      "\n",
      "\n",
      "\n",
      "County records show that MidPen bought this property for $1.478MM in 2015 with 100% financing...\n",
      "\n",
      "\n",
      "\n",
      "I drove by the building yesterday and several issues immediately crossed my mind.\n",
      "\n",
      "\n",
      "\n",
      "1)  $2.8FMV is nearly double what the true FMV is for this property.  It has been boarded up and would generate at least $6-7K month gross income to conscientious owners, and,  for deserving very Low Income Housing.\n",
      "\n",
      "\n",
      "\n",
      "    An investor can buy a 4 plex in prime downtown Menlo Park or Linfield Oaks for $2.8 today,  and this 335 Pierce property is not a Prime Location...\n",
      "\n",
      "\n",
      "\n",
      "2)  What happened to the previous tenants?   The MLS records show there were (2)  1 bedroom 1 bath units upstairs,  and (2)   2 bedroom 1 bath units downstairs with 4 covered and 1 uncovered parking spaces.\n",
      "\n",
      "     Were previous tenants \"evicted\",  provided moving expenses and comparable or better units by MidPen?\n",
      "\n",
      "     Why did MidPen board up the building,  when it could have provided much needed Very Low Income Affordable Housing for 4 deserving tenants.?\n",
      "\n",
      "    There are a great number of 1950s era 4 plexes throughout our community.\n",
      "\n",
      "\n",
      "\n",
      "3)   Im a years long supporter of Habit for Humanity,  and have made numerous purchases in the Thousands of Dollars from their Outlets of donated and used items.  Ive purchased from their Northern and Southern         California outlets to create attractive rental housing opportunities in Menlo Park and other cities for both my and my clients rental units.\n",
      "\n",
      "    Ive participated and even single handedly renovated units over the years,  and would offer my services and recruit qualified laborers to facilitate a Rehab of this building in cooperation with Habit for Humanity.\n",
      "\n",
      "\n",
      "\n",
      "  This 4 plex could use renovation and makeover in a cost effective timely fashion for 4 very deserving Very Low Income Families.\n",
      "\n",
      "\n",
      "\n",
      "Lots of troubling issues that bear Council questioning Staff about the Collateral Consequences of Council approving this $3.6MM grant when we need Transparency and Accountability.\n",
      "\n",
      "\n",
      "\n",
      "Your thoughtful consideration of this matter is appreciated by Menlo Park Voters and Taxpayers.\n",
      "\n",
      "\n",
      "\n",
      "Regards, Rich\n",
      "\n",
      "\n",
      "\n",
      "\n",
      "\n",
      "\n",
      "\n",
      "\n",
      "\n",
      "Rich Rollins,  Broker\n",
      "\n",
      "Rollins Realty and Management\n",
      "\n",
      "770  Menlo Ave.\n",
      "\n",
      "Menlo Park, Calif. 94025\n",
      "\n",
      "Ofc. 650-327-0375\n",
      "\n",
      "Cell 415 999 7109\n",
      "\n",
      "\n",
      "\n",
      "[http://gallery.mailchimp.com/18341f6412628d0475614f8be/images/SpireSignature.jpg]\n",
      "------------------------------------------------------------\n",
      "Dear City Council Members,\n",
      "\n",
      "\n",
      "\n",
      "I am writing to express my strong opposition to the proposed plan to utilize Parking Plazas 1, 2, and 3 for high-density, affordable housing.\n",
      "\n",
      "\n",
      "\n",
      "The potential consequences of this action are deeply concerning. The loss of 556 parking spaces, without a concrete plan for replacement, will undoubtedly lead to increased congestion and traffic. This will negatively impact businesses, residents, and the overall vibrancy of our downtown area. Additionally, the lack of studies on the potential impact on infrastructure and traffic is alarming.\n",
      "\n",
      "\n",
      "\n",
      "Our business caters to new parents, many of whom have just left the hospital and undergone C-Sections. Implementing this plan would devastate our business and cause undue physical hardship for our customers.\n",
      "\n",
      "\n",
      "\n",
      "I urge you to reconsider this plan and explore alternative locations for affordable housing. The Housing Elements suggestion that parking lot housing would enhance \"downtown vibrancy\" disregards the potential for severe economic and logistical consequences.\n",
      "\n",
      "\n",
      "\n",
      "I understand the need for affordable housing in Menlo Park, but this plan is not the solution. I ask that you listen to the concerns of residents, businesses, and property owners and make a decision that prioritizes the well-being of our community.\n",
      "\n",
      "\n",
      "\n",
      "Thank you for your time and consideration.\n",
      "\n",
      "\n",
      "\n",
      "Sincerely,\n",
      "\n",
      "Sheila\n",
      "\n",
      "\n",
      "\n",
      "\n",
      "\n",
      "Sheila Janakos, MPH, IBCLC\n",
      "\n",
      "CEO /Co-Founder\n",
      "\n",
      "Healthy Horizons Breastfeeding Centers, Inc.\n",
      "\n",
      "Healthy Horizons Corporate Lactation Services, Inc\n",
      "\n",
      "http://www.healthyhorizonsonline.com/<https://linkprotect.cudasvc.com/url?a=http%3a%2f%2fwww.healthyhorizonsonline.com%2f&c=E,1,U0BIuTXCNKpmBgqdQUvXf9UimMVFbAKiSqrhmfKo6Oc5BzUyMubBkqkRduuwZfdVUg_O-16z2YNFplem7dY7nK0ieFtbu6nQg1zDSLTDzLxWNTbO&typo=1>\n",
      "\n",
      "www.linkedin.com/in/sjanakos<http://www.linkedin.com/in/sjanakos>\n",
      "\n",
      "\n",
      "\n",
      "\n",
      "\n",
      "\n",
      "\n",
      "\n",
      "\n",
      "CONFIDENTIALITY NOTICE: This email message and any attachments are for the sole use of the intended recipient(s) and may contain proprietary, confidential, trade secret or privileged information. Any unauthorized review, use, disclosure or distribution is prohibited and may be a violation of law. If you are not the intended recipient or a person responsible for delivering this message to an intended recipient, please contact the sender by reply email and destroy all copies of the original message.\n",
      "------------------------------------------------------------\n",
      "Hello MP City Council,\n",
      "\n",
      "\n",
      "\n",
      "I am writing to advocate for a full-size playing field to be included as part of the SRI development, as well as other dedicated city amenities.\n",
      "\n",
      "\n",
      "\n",
      "My children play soccer and often have to split practice space with multiple other teams.  We have to drive 20-30 minutes to other fields in Portola Valley and Palo Alto because there is not enough space in Menlo Park.  With the increased density of the SRI development, there will be more traffic and more children.  We need full fields in Menlo Park (full-size for 11v11 soccer, turf for all-weather play, with lights so that kids can play in the evening).  Adding lights to the field at Burgess would also extend the usable hours for that grass field.\n",
      "\n",
      "\n",
      "\n",
      "Further, I want Menlo Park residents to receive more than just housing out of the SRI 60-acre development.  My understanding is that other major development agreements have included $100M+ in new city amenities.  With the increase to housing density and traffic, we should increase the walkable and bikeable things to do within Menlo Park!  We need to add community amenities into SRI in addition to housing.\n",
      "\n",
      "\n",
      "\n",
      "Thank you,\n",
      "\n",
      "\n",
      "\n",
      "Sara Fernandez Lopez\n",
      "\n",
      "Menlo Park Resident\n",
      "------------------------------------------------------------\n",
      "Dear Menlo Park City Council,\n",
      "\n",
      "I have lived in Vintage Oaks for 9 years, and Im writing today to express my enthusiastic support for building new affordable housing downtown. A fellow parent at my childs school, Morgan Ames, wrote this piece, and it encapsulates everything I believe, so instead of reinventing the wheel, I will forward it as I fully support all the points in her message.\n",
      "\n",
      "\n",
      "\n",
      "Best,\n",
      "\n",
      "Cassandra Lopez Loftus Cities all over California have blocked housing development for decades, leading to historically high housing prices all over the state. Now, for the first time in decades, the state is enforcing city housing elements, meaning that we have a HUGE deficit to make up. ALL neighborhoods need to do their part, but especially neighborhoods close to transit. Building on downtown parking lots is a historic opportunity to meaningfully address this deficit in a pro-transit, pro-density, climate-change-conscious way.  From conversations with Drew Combs and discussions on NextDoor, I know this is a hot topic, but the arguments against housing all seem to be strawmen. Here are the main arguments Ive seen repeated: 1- \"taking away parking\" - it would be simple to include a parking garage! People on NextDoor are arguing that they are *certain* that wont happen, but there is NO design yet. Moreover, I often see ample parking downtown, and we just added a lot just across El Camino as well. I support PEOPLE over CARS. 2- \"this would kill downtown\" - Menlo Parks downtown is already struggling with high vacancies. Having more people live downtown would almost certainly make downtown businesses MORE vibrant.\n",
      "\n",
      "3- \"people who live in affordable units wont be able to afford Draegers\" - given the proximity of Trader Joes, Safeway, and a number of other options, this is just ridiculous. 4- \"traffic will be worse\" - traffic through and around Menlo Park is bad in a large part because so many people cant afford to live close to where they work. These units, with their proximity to CalTrain and major bus lines, would enable a public transit lifestyle far more easily than even more building in flood-prone Belle Haven or elsewhere in the city. I for one would LOVE to couple this construction with the addition of more dedicated and separated bicycle lanes to make biking a safer and more viable alternative to driving for more of the population. In the long-term, Id also love to add light rail along all major thoroughfares throughout the city as well!  5- \"we dont have the infrastructure\" - Ive never seen any evidence for this claim. Moreover, if infrastructure DOES need to be upgraded for these developments, then that will be part of the project - which could potentially benefit the whole city by replacing and improving aging systems.  6- \"we have to add housing because of Meta, so lets build more down there.\" This housing must be added not because of Meta, but because Menlo Park residents have for DECADES blocked housing that the city was legally mandated to add according to its housing element, and California has not been enforcing its housing element - UNTIL NOW. Moreover, Belle Haven has already had a HUGE amount of housing development, and a huge amount is still in the pipeline -- and I worry about much of this housing with rising seas because of climate change. It is time that ALL neighborhoods share the task of adding more units, including neighborhoods that have historically used their political power and wealth to block development, which includes all neighborhoods west of El Camino.  (And speaking of power and wealth, Ive heard that some wealthy residents have already hired LAWYERS to oppose this, and its clear theyve poured money into large-scale marketing campaigns! Ive gotten professionally-printed full-color cardstock flyers on my car downtown and at Menlo Medical Clinic opposed to this development.) 7- \"we dont have the school capacity\" - we currently have unfilled capacities in Menlo Park schools, as our enrollments are down from where they were a decade ago. And if we need more capacity, we can build more onto existing schools, and I also see multiple opportunities for new schools on chunks of land like USGS/SRI, the former Sunset campus, schools in the Willows currently owned by Belle Haven district, and more. In short, this is something that we can address! 8- perhaps MOST ridiculously, Ive seen posts on NextDoor decrying the \"red\" buildings that people appear to be certain are going to be built, based off of renderings put on the city website that highlighted possible building profiles in red so we could easily see them. I see this as a clear sign that the anti-housing contingent is grasping at strawmen in their opposition. Again, I urge you on January 14th to support declaring parking lots as surplus land so we can build more badly-needed housing in Menlo Park. Please vote \"yes\" to new affordable homes downtown!\n",
      "------------------------------------------------------------\n"
     ]
    }
   ],
   "source": [
    "for i in I:\n",
    "    print(emails[i[0]])\n",
    "    print('---'*20)"
   ]
  },
  {
   "cell_type": "code",
   "execution_count": null,
   "metadata": {},
   "outputs": [],
   "source": []
  }
 ],
 "metadata": {
  "kernelspec": {
   "display_name": "venv",
   "language": "python",
   "name": "python3"
  },
  "language_info": {
   "codemirror_mode": {
    "name": "ipython",
    "version": 3
   },
   "file_extension": ".py",
   "mimetype": "text/x-python",
   "name": "python",
   "nbconvert_exporter": "python",
   "pygments_lexer": "ipython3",
   "version": "3.10.1"
  }
 },
 "nbformat": 4,
 "nbformat_minor": 2
}
